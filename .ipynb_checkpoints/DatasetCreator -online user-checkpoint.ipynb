{
 "cells": [
  {
   "cell_type": "markdown",
   "id": "2ee6b4cf",
   "metadata": {},
   "source": [
    "#  😁😁Welcome to use Trash Dataset Production System,(●'◡'●) please follow the steps below to create your dataset"
   ]
  },
  {
   "cell_type": "markdown",
   "id": "988591ff",
   "metadata": {},
   "source": [
    "## Only a few steps, you can get your own dataset"
   ]
  },
  {
   "cell_type": "markdown",
   "id": "ab3666e3",
   "metadata": {},
   "source": [
    "## 💪Step 1 "
   ]
  },
  {
   "cell_type": "code",
   "execution_count": null,
   "id": "d3bd178a",
   "metadata": {},
   "outputs": [],
   "source": [
    "!git clone https://github.com/qlkaaron/PrivateCoverAndTag\n",
    "%cd PrivateCoverAndTag\n",
    "%pip install -qr requirements.txt "
   ]
  },
  {
   "cell_type": "markdown",
   "id": "ef43edea",
   "metadata": {},
   "source": [
    "## 💪Step 2 "
   ]
  },
  {
   "cell_type": "markdown",
   "id": "c2988e04",
   "metadata": {},
   "source": [
    "###  Now let's cover the private information in your files(faces and license plates). Please run the codes below and upload the file. "
   ]
  },
  {
   "cell_type": "code",
   "execution_count": null,
   "id": "7121675b",
   "metadata": {},
   "outputs": [],
   "source": [
    "%cd core\n",
    "%cd detect\n",
    "from google.colab import files\n",
    "uploaded = files.upload()"
   ]
  },
  {
   "cell_type": "code",
   "execution_count": null,
   "id": "aff85b7c",
   "metadata": {},
   "outputs": [],
   "source": [
    "%cd ..\n",
    "%cd .."
   ]
  },
  {
   "cell_type": "markdown",
   "id": "7da7189e",
   "metadata": {},
   "source": [
    "###  Run the codes below. This will take some time. Be patient, you don't need to do anything, just leave the notebook open and go for a break.😊 "
   ]
  },
  {
   "cell_type": "code",
   "execution_count": null,
   "id": "5e0df766",
   "metadata": {},
   "outputs": [],
   "source": [
    "import torch\n",
    "import os\n",
    "import shutil\n",
    "!python core/detect.py --source ./core/detect --weights core/cars/best.pt\n",
    "!python core/detect.py --source ./core/output --weights core/face/best.pt --project core/result\n",
    "source_path = os.path.abspath('core/result')\n",
    "target_path = os.path.abspath('output')\n",
    "if not os.path.exists(target_path):\n",
    "    os.makedirs(target_path)\n",
    "if os.path.exists(source_path):\n",
    "    shutil.rmtree(target_path)\n",
    "shutil.copytree(source_path, target_path)\n",
    "shutil.rmtree(os.path.abspath('core/result'))\n",
    "shutil.rmtree(os.path.abspath('core/output'))"
   ]
  },
  {
   "cell_type": "markdown",
   "id": "92549a4f",
   "metadata": {},
   "source": [
    "### All processed files are stored in the output folder now. Run the codes below to download it"
   ]
  },
  {
   "cell_type": "code",
   "execution_count": null,
   "id": "b19bbdd4",
   "metadata": {},
   "outputs": [],
   "source": [
    "from google.colab import files\n",
    "files.download('output')"
   ]
  },
  {
   "cell_type": "markdown",
   "id": "4ee94816",
   "metadata": {},
   "source": [
    "### Congratulations!👏 Now that all the private information in the file are obscured as well, you can start annotating them"
   ]
  },
  {
   "cell_type": "markdown",
   "id": "eb2a05f1",
   "metadata": {},
   "source": [
    "## 💪Step 3"
   ]
  },
  {
   "cell_type": "markdown",
   "id": "4ecaadf5",
   "metadata": {},
   "source": [
    "### Now let us annotate our file. It's an online annotation tool, you don't need to install or download anything, just run the codes below and click the link it shows. Upload the files you want to annotate and when finishing, you can export them as the dataset format you want and download it or save in its website\n"
   ]
  },
  {
   "cell_type": "code",
   "execution_count": null,
   "id": "f7670312",
   "metadata": {
    "scrolled": false
   },
   "outputs": [],
   "source": [
    "%pip install roboflow\n",
    "from roboflow import Roboflow\n",
    "rf = Roboflow(notebook=\"ultralytics\")"
   ]
  },
  {
   "cell_type": "markdown",
   "id": "24e041e4",
   "metadata": {},
   "source": [
    "## 💪Step 4"
   ]
  },
  {
   "cell_type": "markdown",
   "id": "b85b1196",
   "metadata": {},
   "source": [
    "### Congratulations!👏You now have a publicly publishable trash dataset. Run the code below and upload your dataset in the page it pops up then it can be shared with everyone!"
   ]
  },
  {
   "cell_type": "code",
   "execution_count": null,
   "id": "742669fb",
   "metadata": {},
   "outputs": [],
   "source": [
    "import webbrowser\n",
    "webbrowser.open('https://docs.google.com/forms/d/e/1FAIpQLSfKPmq1xBSaBvuETQobNXH_OZGw7OOpKjOfAL-j3UahIgkMuw/viewform')"
   ]
  }
 ],
 "metadata": {
  "kernelspec": {
   "display_name": "Python 3 (ipykernel)",
   "language": "python",
   "name": "python3"
  },
  "language_info": {
   "codemirror_mode": {
    "name": "ipython",
    "version": 3
   },
   "file_extension": ".py",
   "mimetype": "text/x-python",
   "name": "python",
   "nbconvert_exporter": "python",
   "pygments_lexer": "ipython3",
   "version": "3.9.7"
  }
 },
 "nbformat": 4,
 "nbformat_minor": 5
}
